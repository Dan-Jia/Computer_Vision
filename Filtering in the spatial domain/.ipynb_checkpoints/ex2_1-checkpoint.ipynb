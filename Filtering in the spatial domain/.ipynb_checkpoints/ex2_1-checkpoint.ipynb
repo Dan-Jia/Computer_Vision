{
 "cells": [
  {
   "cell_type": "markdown",
   "metadata": {},
   "source": [
    "# Aufgabe 1: Histogramme\n",
    "Das Histogramm $h$ eines Bildes stellt die Verteilung der Intensitäten im Bild dar.\n",
    "Schreiben Sie eine Python-Funktion, die ein Grauwertbild lädt, dessen Histogramm ermittelt und dieses graphisch darstellt!"
   ]
  },
  {
   "cell_type": "markdown",
   "metadata": {},
   "source": [
    "## 0. Pfade, Pakete etc."
   ]
  },
  {
   "cell_type": "code",
   "execution_count": 1,
   "metadata": {},
   "outputs": [
    {
     "ename": "ModuleNotFoundError",
     "evalue": "No module named 'imageio'",
     "output_type": "error",
     "traceback": [
      "\u001b[0;31m---------------------------------------------------------------------------\u001b[0m",
      "\u001b[0;31mModuleNotFoundError\u001b[0m                       Traceback (most recent call last)",
      "\u001b[0;32m<ipython-input-1-4fb49a498ae5>\u001b[0m in \u001b[0;36m<module>\u001b[0;34m\u001b[0m\n\u001b[1;32m      5\u001b[0m \u001b[0;32mimport\u001b[0m \u001b[0mmatplotlib\u001b[0m\u001b[0;34m.\u001b[0m\u001b[0mpyplot\u001b[0m \u001b[0;32mas\u001b[0m \u001b[0mplt\u001b[0m\u001b[0;34m\u001b[0m\u001b[0;34m\u001b[0m\u001b[0m\n\u001b[1;32m      6\u001b[0m \u001b[0;34m\u001b[0m\u001b[0m\n\u001b[0;32m----> 7\u001b[0;31m \u001b[0;32mimport\u001b[0m \u001b[0mimageio\u001b[0m\u001b[0;34m\u001b[0m\u001b[0;34m\u001b[0m\u001b[0m\n\u001b[0m\u001b[1;32m      8\u001b[0m \u001b[0;32mimport\u001b[0m \u001b[0mnumpy\u001b[0m \u001b[0;32mas\u001b[0m \u001b[0mnp\u001b[0m\u001b[0;34m\u001b[0m\u001b[0;34m\u001b[0m\u001b[0m\n",
      "\u001b[0;31mModuleNotFoundError\u001b[0m: No module named 'imageio'"
     ]
    }
   ],
   "source": [
    "import glob\n",
    "import urllib.request\n",
    "\n",
    "%matplotlib notebook\n",
    "import matplotlib.pyplot as plt\n",
    "\n",
    "import imageio\n",
    "import numpy as np"
   ]
  },
  {
   "cell_type": "code",
   "execution_count": null,
   "metadata": {},
   "outputs": [],
   "source": [
    "# image_filter = 'Bilder/*.jpg'\n",
    "image_filter = 'Bilder/Aerial.jpg'"
   ]
  },
  {
   "cell_type": "markdown",
   "metadata": {},
   "source": [
    "## 1. Laden des Bildes"
   ]
  },
  {
   "cell_type": "code",
   "execution_count": null,
   "metadata": {},
   "outputs": [],
   "source": [
    "image_path = np.random.choice(glob.glob(image_filter))\n",
    "image = imageio.imread(image_path)\n",
    "\n",
    "image"
   ]
  },
  {
   "cell_type": "markdown",
   "metadata": {},
   "source": [
    "## 2. Bestimmung des Histogrammes\n",
    "Im Bild sind Grauwerte von mindestens 0 bis höchstens 255 vorhanden. Legen Sie eine Liste entsprechender Länge an, sodass die Grauwerte als Indizes verwendet werden können. Gehen Sie Pixel für Pixel durch das Bild, um das Histogramm zu berechnen. Verpacken Sie das Verfahren in einer Funktion!"
   ]
  },
  {
   "cell_type": "code",
   "execution_count": null,
   "metadata": {},
   "outputs": [],
   "source": [
    "def ex2_histogram(img):\n",
    "    if(len(img.shape) != 2):\n",
    "        print(\"img size error\")\n",
    "        return None\n",
    "    histogram = {}\n",
    "    for i1 in range(img.shape[0]):\n",
    "        for i2 in range(img.shape[1]):\n",
    "            if histogram.get(img[i1][i2]) is None:\n",
    "                histogram[img[i1][i2]] = 0\n",
    "            histogram[img[i1][i2]] += 1\n",
    "    #cal max value\n",
    "    maxValue = 0.0\n",
    "    maxKey = -1\n",
    "    for key in histogram:\n",
    "        if histogram[key] > maxValue:\n",
    "            maxValue = histogram[key]\n",
    "            maxKey = key\n",
    "    print(maxValue)\n",
    "    print(maxKey)\n",
    "\n",
    "    # normalize\n",
    "    for key in histogram:\n",
    "        histogram[key] = float(histogram[key]) / maxValue\n",
    "    return histogram"
   ]
  },
  {
   "cell_type": "markdown",
   "metadata": {},
   "source": [
    "## 3. Darstellen des Histogrammes\n",
    "Zunächst wird die eben definierte Funktion zur Berechnung des Histogrammes aufgerufen."
   ]
  },
  {
   "cell_type": "code",
   "execution_count": null,
   "metadata": {},
   "outputs": [],
   "source": [
    "image_histogram = ex2_histogram(image)\n",
    "image_histogram"
   ]
  },
  {
   "cell_type": "markdown",
   "metadata": {},
   "source": [
    "Stellen Sie zu Vergleichszwecken zunächst das Bild dar:"
   ]
  },
  {
   "cell_type": "code",
   "execution_count": null,
   "metadata": {},
   "outputs": [],
   "source": [
    "plt.figure('Image')\n",
    "plt.imshow(image, cmap='gray')\n",
    "plt.show()"
   ]
  },
  {
   "cell_type": "markdown",
   "metadata": {},
   "source": [
    "Verwenden Sie nun `matplotlib.pyplot`, um das Histogramm in Form eines Balkendiagrammes darzustellen."
   ]
  },
  {
   "cell_type": "code",
   "execution_count": null,
   "metadata": {},
   "outputs": [],
   "source": [
    "plt.figure()\n",
    "plt.axis([0,256,0,1])\n",
    "plt.grid(True)\n",
    "\n",
    "keys=image_histogram.keys()\n",
    "values=image_histogram.values()\n",
    "plt.bar(tuple(keys), tuple(values))\n",
    "plt.show()"
   ]
  }
 ],
 "metadata": {
  "kernelspec": {
   "display_name": "Python 3",
   "language": "python",
   "name": "python3"
  },
  "language_info": {
   "codemirror_mode": {
    "name": "ipython",
    "version": 3
   },
   "file_extension": ".py",
   "mimetype": "text/x-python",
   "name": "python",
   "nbconvert_exporter": "python",
   "pygments_lexer": "ipython3",
   "version": "3.6.7"
  }
 },
 "nbformat": 4,
 "nbformat_minor": 2
}
